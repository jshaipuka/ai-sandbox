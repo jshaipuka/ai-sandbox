{
 "cells": [
  {
   "cell_type": "code",
   "id": "initial_id",
   "metadata": {
    "collapsed": true,
    "ExecuteTime": {
     "end_time": "2025-07-14T17:14:55.449129Z",
     "start_time": "2025-07-14T17:14:44.369189Z"
    }
   },
   "source": [
    "from transformers import AutoTokenizer, AutoModelForMaskedLM\n",
    "\n",
    "model_id = \"answerdotai/ModernBERT-base\"\n",
    "tokenizer = AutoTokenizer.from_pretrained(model_id)\n",
    "model = AutoModelForMaskedLM.from_pretrained(model_id)\n",
    "\n",
    "sentence = \"Everyone knows that\"\n",
    "masks = ' '.join([\"[MASK]\"] * 20)\n",
    "for i in range(16):\n",
    "    text = sentence + ' ' + masks\n",
    "    inputs = tokenizer(text, return_tensors=\"pt\")\n",
    "    outputs = model(**inputs)\n",
    "\n",
    "    # To get predictions for the mask:\n",
    "    masked_index = inputs[\"input_ids\"][0].tolist().index(tokenizer.mask_token_id)\n",
    "    predicted_token_id = outputs.logits[0, masked_index].argmax(axis=-1)\n",
    "    predicted_token = tokenizer.decode(predicted_token_id)\n",
    "    sentence += predicted_token\n",
    "    print(predicted_token, end=\"\")\n"
   ],
   "outputs": [
    {
     "name": "stdout",
     "output_type": "stream",
     "text": [
      " the world is a big place, but what about the world of the internet?"
     ]
    }
   ],
   "execution_count": 121
  },
  {
   "metadata": {
    "ExecuteTime": {
     "end_time": "2025-07-14T16:17:30.765908Z",
     "start_time": "2025-07-14T16:17:20.104121Z"
    }
   },
   "cell_type": "code",
   "source": [
    "import torch\n",
    "from transformers import pipeline\n",
    "from pprint import pprint\n",
    "\n",
    "pipe = pipeline(\n",
    "    \"fill-mask\",\n",
    "    model=\"answerdotai/ModernBERT-base\",\n",
    "    torch_dtype=torch.bfloat16,\n",
    ")\n",
    "\n",
    "input_text = \"\\\"This movie is a freaking masterpiece.\\\" — the sentiment of this sentence is [MASK]\"\n",
    "results = pipe(input_text)\n",
    "pprint(results[0]['token_str'])"
   ],
   "id": "3430aeb7e7f849f6",
   "outputs": [
    {
     "name": "stderr",
     "output_type": "stream",
     "text": [
      "Device set to use mps:0\n"
     ]
    },
    {
     "name": "stdout",
     "output_type": "stream",
     "text": [
      "' positive'\n"
     ]
    }
   ],
   "execution_count": 77
  },
  {
   "metadata": {},
   "cell_type": "code",
   "outputs": [],
   "execution_count": null,
   "source": "",
   "id": "321eb2f2bccf3029"
  }
 ],
 "metadata": {
  "kernelspec": {
   "display_name": "Python 3",
   "language": "python",
   "name": "python3"
  },
  "language_info": {
   "codemirror_mode": {
    "name": "ipython",
    "version": 2
   },
   "file_extension": ".py",
   "mimetype": "text/x-python",
   "name": "python",
   "nbconvert_exporter": "python",
   "pygments_lexer": "ipython2",
   "version": "2.7.6"
  }
 },
 "nbformat": 4,
 "nbformat_minor": 5
}
