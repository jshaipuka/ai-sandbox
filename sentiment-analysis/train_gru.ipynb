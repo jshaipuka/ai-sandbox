{
 "cells": [
  {
   "cell_type": "code",
   "id": "initial_id",
   "metadata": {
    "collapsed": true,
    "ExecuteTime": {
     "end_time": "2025-06-30T21:58:09.925934Z",
     "start_time": "2025-06-30T21:58:09.922529Z"
    }
   },
   "source": [
    "import numpy as np\n",
    "import spacy\n",
    "import torch\n",
    "from datasets import load_dataset, Dataset, concatenate_datasets\n",
    "from torch import nn"
   ],
   "outputs": [],
   "execution_count": 28
  },
  {
   "metadata": {
    "ExecuteTime": {
     "end_time": "2025-06-30T21:41:25.615296Z",
     "start_time": "2025-06-30T21:41:25.613227Z"
    }
   },
   "cell_type": "code",
   "source": [
    "def determine_device():\n",
    "    if torch.cuda.is_available():\n",
    "        return 'cuda'\n",
    "    elif torch.backends.mps.is_available():\n",
    "        return 'mps'\n",
    "    else:\n",
    "        return 'cpu'\n",
    "\n",
    "\n",
    "device = determine_device()\n",
    "print(f'Device is {device}')"
   ],
   "id": "8a688ed2982f2904",
   "outputs": [
    {
     "name": "stdout",
     "output_type": "stream",
     "text": [
      "Device is mps\n"
     ]
    }
   ],
   "execution_count": 2
  },
  {
   "metadata": {
    "ExecuteTime": {
     "end_time": "2025-06-30T22:29:05.209931Z",
     "start_time": "2025-06-30T22:29:00.384592Z"
    }
   },
   "cell_type": "code",
   "source": [
    "def process(example):\n",
    "    example['text'] = example['text'].strip()\n",
    "    example['length'] = len(example['text'])\n",
    "    return example\n",
    "\n",
    "\n",
    "nlp = spacy.load('en_core_web_sm')\n",
    "dataset = load_dataset('Sp1786/multiclass-sentiment-analysis-dataset')\n",
    "train_dataset: Dataset = dataset['train'].filter(lambda it: len(it['text']) <= 128).map(process).sort('length')\n",
    "validation_dataset: Dataset = dataset['validation'].filter(lambda it: len(it['text']) <= 128).map(process).sort(\n",
    "    'length')\n",
    "test_dataset: Dataset = dataset['test']\n",
    "\n",
    "corpus = concatenate_datasets([train_dataset, validation_dataset])['text']\n",
    "vocabulary = sorted(set(''.join(corpus)))\n",
    "\n",
    "# TODO: cleanup data to only have English letters\n",
    "char_to_i = {u: i for i, u in enumerate(vocabulary)}\n",
    "\n",
    "\n",
    "def encode_x(char_to_i, message):\n",
    "    return torch.tensor([char_to_i[char] for char in message])\n",
    "\n",
    "\n",
    "def encode_y(label):\n",
    "    vector = torch.zeros(3)\n",
    "    vector[label] = 1\n",
    "    return vector\n",
    "\n",
    "\n",
    "train_messages = [encode_x(char_to_i, message) for message in train_dataset['text']]\n",
    "train_labels = [encode_y(label) for label in train_dataset['label']]\n",
    "validation_messages = [encode_x(char_to_i, message) for message in validation_dataset['text']]\n",
    "validation_labels = [encode_y(label) for label in validation_dataset['label']]\n",
    "\n",
    "print('Number of train messages:', len(train_messages))\n",
    "print('Number of train labels:', len(train_labels))\n",
    "print('Number of validation messages:', len(validation_messages))\n",
    "print('Number of validation labels:', len(validation_labels))\n",
    "print(max([len(message) for message in train_messages]))\n",
    "print(len(vocabulary))\n"
   ],
   "id": "a1f577bcdf2ff5f8",
   "outputs": [
    {
     "data": {
      "text/plain": [
       "Filter:   0%|          | 0/31232 [00:00<?, ? examples/s]"
      ],
      "application/vnd.jupyter.widget-view+json": {
       "version_major": 2,
       "version_minor": 0,
       "model_id": "663d644f9a1146b1ab2feb6788df8c4b"
      }
     },
     "metadata": {},
     "output_type": "display_data"
    },
    {
     "data": {
      "text/plain": [
       "Map:   0%|          | 0/25913 [00:00<?, ? examples/s]"
      ],
      "application/vnd.jupyter.widget-view+json": {
       "version_major": 2,
       "version_minor": 0,
       "model_id": "320e9aa4c5254428926dfa5f62e3cac3"
      }
     },
     "metadata": {},
     "output_type": "display_data"
    },
    {
     "data": {
      "text/plain": [
       "Filter:   0%|          | 0/5205 [00:00<?, ? examples/s]"
      ],
      "application/vnd.jupyter.widget-view+json": {
       "version_major": 2,
       "version_minor": 0,
       "model_id": "7dc5e8f595084562b80607f2ab7a4e3e"
      }
     },
     "metadata": {},
     "output_type": "display_data"
    },
    {
     "data": {
      "text/plain": [
       "Map:   0%|          | 0/4279 [00:00<?, ? examples/s]"
      ],
      "application/vnd.jupyter.widget-view+json": {
       "version_major": 2,
       "version_minor": 0,
       "model_id": "99a5d4f47b0443d6a875ed702021a589"
      }
     },
     "metadata": {},
     "output_type": "display_data"
    },
    {
     "name": "stdout",
     "output_type": "stream",
     "text": [
      "Number of train messages: 25913\n",
      "Number of train labels: 25913\n",
      "Number of validation messages: 4279\n",
      "Number of validation labels: 4279\n",
      "128\n",
      "503\n"
     ]
    }
   ],
   "execution_count": 56
  },
  {
   "metadata": {
    "ExecuteTime": {
     "end_time": "2025-06-30T22:20:47.703779Z",
     "start_time": "2025-06-30T22:20:47.632120Z"
    }
   },
   "cell_type": "code",
   "source": "train_dataset['text'][:100]",
   "id": "5d91d7d27be6a117",
   "outputs": [
    {
     "data": {
      "text/plain": [
       "['😍',\n",
       " '💖',\n",
       " '😀',\n",
       " '👍',\n",
       " '🐂',\n",
       " 'yy',\n",
       " 'Ok',\n",
       " 'aw',\n",
       " 'ME',\n",
       " 'TV',\n",
       " '♡♡',\n",
       " 'no',\n",
       " 'Gd',\n",
       " 'ok',\n",
       " 'gut',\n",
       " 'Oke',\n",
       " 'bad',\n",
       " 'Fab',\n",
       " 'Wow',\n",
       " '🙄🙄🙄',\n",
       " 'yup',\n",
       " 'top',\n",
       " 'yep',\n",
       " 'okk',\n",
       " 'Bad',\n",
       " 'Baf',\n",
       " 'new',\n",
       " 'not',\n",
       " 'Xxx',\n",
       " 'wew',\n",
       " 'Try',\n",
       " 'Gud',\n",
       " 'Yas',\n",
       " 'E u',\n",
       " 'NYC',\n",
       " 'Hey',\n",
       " 'awe',\n",
       " 'Pay',\n",
       " 'Thx',\n",
       " 'Nope',\n",
       " 'heyy',\n",
       " 'nice',\n",
       " 'Kpai',\n",
       " 'same',\n",
       " 'Love',\n",
       " 'lame',\n",
       " 'Surp',\n",
       " 'ouch',\n",
       " 'Hell',\n",
       " 'Cute',\n",
       " 'Well',\n",
       " 'Why?',\n",
       " 'taco',\n",
       " 'Nice',\n",
       " 'best',\n",
       " 'Why?',\n",
       " 'Thop',\n",
       " 'yay!',\n",
       " 'why?',\n",
       " 'yeah',\n",
       " 'Cool',\n",
       " 'rain',\n",
       " '😶😶😶😶',\n",
       " 'lMMD',\n",
       " 'Like',\n",
       " 'with',\n",
       " 'mean',\n",
       " 'Also',\n",
       " 'Fine',\n",
       " 'like',\n",
       " 'good',\n",
       " 'awww',\n",
       " '55 o',\n",
       " 'Nise',\n",
       " 'شكرا',\n",
       " '****',\n",
       " 'Bye.',\n",
       " '*hug*',\n",
       " 'Oh no',\n",
       " 'nice!',\n",
       " 'uh oh',\n",
       " 'I did',\n",
       " 'Good.',\n",
       " 'Good!',\n",
       " 'Yep!!',\n",
       " 'gmail',\n",
       " 'Yeah.',\n",
       " 'woOt!',\n",
       " 'super',\n",
       " 'supp?',\n",
       " 'awee!',\n",
       " 'yeahh',\n",
       " 'Sucks',\n",
       " 'Bekar',\n",
       " 'Yayyy',\n",
       " 'Great',\n",
       " 'night',\n",
       " 'thanx',\n",
       " 'goood',\n",
       " 'why??']"
      ]
     },
     "execution_count": 49,
     "metadata": {},
     "output_type": "execute_result"
    }
   ],
   "execution_count": 49
  },
  {
   "metadata": {
    "ExecuteTime": {
     "end_time": "2025-07-01T06:13:01.871695Z",
     "start_time": "2025-07-01T06:13:01.864830Z"
    }
   },
   "cell_type": "code",
   "source": [
    "def create_batch(xs, ys, batch_size, padding_value):\n",
    "    index = np.random.choice(len(xs) - batch_size + 1)\n",
    "    indices = range(index, index + batch_size)\n",
    "    return nn.utils.rnn.pad_sequence([xs[i] for i in indices], batch_first=True, padding_value=padding_value), torch.stack(\n",
    "        [ys[i] for i in indices])"
   ],
   "id": "3f23bbdb9a1ce2ad",
   "outputs": [],
   "execution_count": 93
  },
  {
   "metadata": {
    "ExecuteTime": {
     "end_time": "2025-07-01T06:13:02.305515Z",
     "start_time": "2025-07-01T06:13:02.299726Z"
    }
   },
   "cell_type": "code",
   "source": [
    "# See https://docs.pytorch.org/docs/stable/generated/torch.nn.GRU.html.\n",
    "class Model(nn.Module):\n",
    "\n",
    "    def __init__(self, vocabulary_size, embedding_dim, hidden_size):\n",
    "        super(Model, self).__init__()\n",
    "        self.embedding = nn.Embedding(num_embeddings=vocabulary_size, embedding_dim=embedding_dim)\n",
    "        self.rnn = nn.GRU(input_size=embedding_dim, hidden_size=hidden_size, num_layers=num_layers, batch_first=True)\n",
    "        self.activation = nn.ReLU()\n",
    "        self.linear = nn.Linear(hidden_size, 3)\n",
    "\n",
    "    def forward(self, sequence, hidden):\n",
    "        # (batch_size, sequence_length) -> (batch_size, sequence_length, embedding_dim)\n",
    "        embedded = self.embedding(sequence)\n",
    "        # (batch_size, sequence_length, embedding_dim)\n",
    "        # -> (batch_size, sequence_length, hidden_size), (num_layers, batch_size, hidden_size)\n",
    "        prediction, hidden = self.rnn(embedded, hidden)\n",
    "        # See https://docs.pytorch.org/tutorials/intermediate/char_rnn_classification_tutorial.html#creating-the-network.\n",
    "        prediction_with_activation = self.activation(prediction[:, -1, :])\n",
    "        return self.linear(prediction_with_activation), hidden"
   ],
   "id": "74d00197ac7e8079",
   "outputs": [],
   "execution_count": 94
  },
  {
   "metadata": {
    "ExecuteTime": {
     "end_time": "2025-07-01T06:13:30.651832Z",
     "start_time": "2025-07-01T06:13:03.172535Z"
    }
   },
   "cell_type": "code",
   "source": [
    "# TODO: try different batch sizes\n",
    "batch_size = 128\n",
    "loss_fn = nn.CrossEntropyLoss(reduction=\"mean\")\n",
    "\n",
    "embedding_dim = 256\n",
    "hidden_size = 1024\n",
    "num_layers = 2\n",
    "model = Model(len(vocabulary), embedding_dim, hidden_size).to(device)\n",
    "optimizer = torch.optim.Adam(model.parameters(), lr=5e-3)\n",
    "\n",
    "number_of_epoches = 1000\n",
    "min_validation_loss = float('inf')\n",
    "for epoch in range(number_of_epoches):\n",
    "    x_batch, y_batch = create_batch(train_messages, train_labels, batch_size, len(vocabulary))\n",
    "    h0 = torch.zeros(num_layers, batch_size, hidden_size)\n",
    "    prediction, _ = model(x_batch.to(device), h0.to(device))\n",
    "    loss = loss_fn(prediction, y_batch.to(device))\n",
    "\n",
    "    loss.backward()\n",
    "    optimizer.step()\n",
    "    model.zero_grad()\n",
    "\n",
    "    if epoch % 10 == 0 or epoch == number_of_epoches - 1:\n",
    "        print(f'Epoch {epoch}, train loss {loss.item()}')"
   ],
   "id": "272aafaf0962bf85",
   "outputs": [
    {
     "name": "stdout",
     "output_type": "stream",
     "text": [
      "Epoch 0, train loss 1.0971333980560303\n",
      "Epoch 10, train loss 1.1254334449768066\n",
      "Epoch 20, train loss 1.1401233673095703\n",
      "Epoch 30, train loss 1.1254665851593018\n",
      "Epoch 40, train loss 1.1135814189910889\n",
      "Epoch 50, train loss 1.1232919692993164\n",
      "Epoch 60, train loss 1.0844101905822754\n",
      "Epoch 70, train loss 1.0922412872314453\n",
      "Epoch 80, train loss 1.0812078714370728\n",
      "Epoch 90, train loss 1.0433968305587769\n",
      "Epoch 100, train loss 1.0693259239196777\n",
      "Epoch 110, train loss 1.1074421405792236\n",
      "Epoch 120, train loss 1.1542725563049316\n",
      "Epoch 130, train loss 1.0701770782470703\n",
      "Epoch 140, train loss 1.0341333150863647\n",
      "Epoch 150, train loss 1.0794349908828735\n",
      "Epoch 160, train loss 1.1401145458221436\n"
     ]
    },
    {
     "ename": "KeyboardInterrupt",
     "evalue": "",
     "output_type": "error",
     "traceback": [
      "\u001B[31m---------------------------------------------------------------------------\u001B[39m",
      "\u001B[31mKeyboardInterrupt\u001B[39m                         Traceback (most recent call last)",
      "\u001B[36mCell\u001B[39m\u001B[36m \u001B[39m\u001B[32mIn[95]\u001B[39m\u001B[32m, line 19\u001B[39m\n\u001B[32m     16\u001B[39m prediction, _ = model(x_batch.to(device), h0.to(device))\n\u001B[32m     17\u001B[39m loss = loss_fn(prediction, y_batch.to(device))\n\u001B[32m---> \u001B[39m\u001B[32m19\u001B[39m \u001B[43mloss\u001B[49m\u001B[43m.\u001B[49m\u001B[43mbackward\u001B[49m\u001B[43m(\u001B[49m\u001B[43m)\u001B[49m\n\u001B[32m     20\u001B[39m optimizer.step()\n\u001B[32m     21\u001B[39m model.zero_grad()\n",
      "\u001B[36mFile \u001B[39m\u001B[32m/opt/homebrew/Caskroom/miniconda/base/envs/sentiment-analysis/lib/python3.12/site-packages/torch/_tensor.py:624\u001B[39m, in \u001B[36mTensor.backward\u001B[39m\u001B[34m(self, gradient, retain_graph, create_graph, inputs)\u001B[39m\n\u001B[32m    614\u001B[39m \u001B[38;5;28;01mif\u001B[39;00m has_torch_function_unary(\u001B[38;5;28mself\u001B[39m):\n\u001B[32m    615\u001B[39m     \u001B[38;5;28;01mreturn\u001B[39;00m handle_torch_function(\n\u001B[32m    616\u001B[39m         Tensor.backward,\n\u001B[32m    617\u001B[39m         (\u001B[38;5;28mself\u001B[39m,),\n\u001B[32m   (...)\u001B[39m\u001B[32m    622\u001B[39m         inputs=inputs,\n\u001B[32m    623\u001B[39m     )\n\u001B[32m--> \u001B[39m\u001B[32m624\u001B[39m \u001B[43mtorch\u001B[49m\u001B[43m.\u001B[49m\u001B[43mautograd\u001B[49m\u001B[43m.\u001B[49m\u001B[43mbackward\u001B[49m\u001B[43m(\u001B[49m\n\u001B[32m    625\u001B[39m \u001B[43m    \u001B[49m\u001B[38;5;28;43mself\u001B[39;49m\u001B[43m,\u001B[49m\u001B[43m \u001B[49m\u001B[43mgradient\u001B[49m\u001B[43m,\u001B[49m\u001B[43m \u001B[49m\u001B[43mretain_graph\u001B[49m\u001B[43m,\u001B[49m\u001B[43m \u001B[49m\u001B[43mcreate_graph\u001B[49m\u001B[43m,\u001B[49m\u001B[43m \u001B[49m\u001B[43minputs\u001B[49m\u001B[43m=\u001B[49m\u001B[43minputs\u001B[49m\n\u001B[32m    626\u001B[39m \u001B[43m\u001B[49m\u001B[43m)\u001B[49m\n",
      "\u001B[36mFile \u001B[39m\u001B[32m/opt/homebrew/Caskroom/miniconda/base/envs/sentiment-analysis/lib/python3.12/site-packages/torch/autograd/__init__.py:347\u001B[39m, in \u001B[36mbackward\u001B[39m\u001B[34m(tensors, grad_tensors, retain_graph, create_graph, grad_variables, inputs)\u001B[39m\n\u001B[32m    342\u001B[39m     retain_graph = create_graph\n\u001B[32m    344\u001B[39m \u001B[38;5;66;03m# The reason we repeat the same comment below is that\u001B[39;00m\n\u001B[32m    345\u001B[39m \u001B[38;5;66;03m# some Python versions print out the first line of a multi-line function\u001B[39;00m\n\u001B[32m    346\u001B[39m \u001B[38;5;66;03m# calls in the traceback and some print out the last line\u001B[39;00m\n\u001B[32m--> \u001B[39m\u001B[32m347\u001B[39m \u001B[43m_engine_run_backward\u001B[49m\u001B[43m(\u001B[49m\n\u001B[32m    348\u001B[39m \u001B[43m    \u001B[49m\u001B[43mtensors\u001B[49m\u001B[43m,\u001B[49m\n\u001B[32m    349\u001B[39m \u001B[43m    \u001B[49m\u001B[43mgrad_tensors_\u001B[49m\u001B[43m,\u001B[49m\n\u001B[32m    350\u001B[39m \u001B[43m    \u001B[49m\u001B[43mretain_graph\u001B[49m\u001B[43m,\u001B[49m\n\u001B[32m    351\u001B[39m \u001B[43m    \u001B[49m\u001B[43mcreate_graph\u001B[49m\u001B[43m,\u001B[49m\n\u001B[32m    352\u001B[39m \u001B[43m    \u001B[49m\u001B[43minputs\u001B[49m\u001B[43m,\u001B[49m\n\u001B[32m    353\u001B[39m \u001B[43m    \u001B[49m\u001B[43mallow_unreachable\u001B[49m\u001B[43m=\u001B[49m\u001B[38;5;28;43;01mTrue\u001B[39;49;00m\u001B[43m,\u001B[49m\n\u001B[32m    354\u001B[39m \u001B[43m    \u001B[49m\u001B[43maccumulate_grad\u001B[49m\u001B[43m=\u001B[49m\u001B[38;5;28;43;01mTrue\u001B[39;49;00m\u001B[43m,\u001B[49m\n\u001B[32m    355\u001B[39m \u001B[43m\u001B[49m\u001B[43m)\u001B[49m\n",
      "\u001B[36mFile \u001B[39m\u001B[32m/opt/homebrew/Caskroom/miniconda/base/envs/sentiment-analysis/lib/python3.12/site-packages/torch/autograd/graph.py:825\u001B[39m, in \u001B[36m_engine_run_backward\u001B[39m\u001B[34m(t_outputs, *args, **kwargs)\u001B[39m\n\u001B[32m    823\u001B[39m     unregister_hooks = _register_logging_hooks_on_whole_graph(t_outputs)\n\u001B[32m    824\u001B[39m \u001B[38;5;28;01mtry\u001B[39;00m:\n\u001B[32m--> \u001B[39m\u001B[32m825\u001B[39m     \u001B[38;5;28;01mreturn\u001B[39;00m \u001B[43mVariable\u001B[49m\u001B[43m.\u001B[49m\u001B[43m_execution_engine\u001B[49m\u001B[43m.\u001B[49m\u001B[43mrun_backward\u001B[49m\u001B[43m(\u001B[49m\u001B[43m  \u001B[49m\u001B[38;5;66;43;03m# Calls into the C++ engine to run the backward pass\u001B[39;49;00m\n\u001B[32m    826\u001B[39m \u001B[43m        \u001B[49m\u001B[43mt_outputs\u001B[49m\u001B[43m,\u001B[49m\u001B[43m \u001B[49m\u001B[43m*\u001B[49m\u001B[43margs\u001B[49m\u001B[43m,\u001B[49m\u001B[43m \u001B[49m\u001B[43m*\u001B[49m\u001B[43m*\u001B[49m\u001B[43mkwargs\u001B[49m\n\u001B[32m    827\u001B[39m \u001B[43m    \u001B[49m\u001B[43m)\u001B[49m  \u001B[38;5;66;03m# Calls into the C++ engine to run the backward pass\u001B[39;00m\n\u001B[32m    828\u001B[39m \u001B[38;5;28;01mfinally\u001B[39;00m:\n\u001B[32m    829\u001B[39m     \u001B[38;5;28;01mif\u001B[39;00m attach_logging_hooks:\n",
      "\u001B[31mKeyboardInterrupt\u001B[39m: "
     ]
    }
   ],
   "execution_count": 95
  },
  {
   "metadata": {
    "ExecuteTime": {
     "end_time": "2025-06-30T22:44:14.000113Z",
     "start_time": "2025-06-30T22:44:13.856754Z"
    }
   },
   "cell_type": "code",
   "source": [
    "h0 = torch.zeros(num_layers, 1, hidden_size)\n",
    "index = 1000\n",
    "message = validation_dataset['text'][index]\n",
    "label = validation_dataset['label'][index]\n",
    "print(message)\n",
    "print(label)\n",
    "encoded_message = encode_x(char_to_i, message)\n",
    "encoded_label = encode_y(label)\n",
    "print(encoded_message)\n",
    "print(encoded_label)\n",
    "x_batch, y_batch = create_batch([encoded_message], [encoded_label], 1, len(vocabulary))\n",
    "prediction, _ = model(x_batch.to(device), h0.to(device))\n",
    "print(torch.nn.functional.softmax(prediction, dim=-1))"
   ],
   "id": "e2727732916a2a45",
   "outputs": [
    {
     "name": "stdout",
     "output_type": "stream",
     "text": [
      "Speedbumps suck when u gotta piss!!\n",
      "0\n",
      "tensor([53, 82, 71, 71, 70, 68, 87, 79, 82, 85,  2, 85, 87, 69, 77,  2, 89, 74,\n",
      "        71, 80,  2, 87,  2, 73, 81, 86, 86, 67,  2, 82, 75, 85, 85,  3,  3])\n",
      "tensor([1., 0., 0.])\n",
      "tensor([[0.3066, 0.3262, 0.3672]], device='mps:0', grad_fn=<SoftmaxBackward0>)\n"
     ]
    }
   ],
   "execution_count": 85
  },
  {
   "metadata": {},
   "cell_type": "code",
   "outputs": [],
   "execution_count": null,
   "source": "",
   "id": "8ec28040b1a09fe2"
  }
 ],
 "metadata": {
  "kernelspec": {
   "display_name": "Python 3",
   "language": "python",
   "name": "python3"
  },
  "language_info": {
   "codemirror_mode": {
    "name": "ipython",
    "version": 2
   },
   "file_extension": ".py",
   "mimetype": "text/x-python",
   "name": "python",
   "nbconvert_exporter": "python",
   "pygments_lexer": "ipython2",
   "version": "2.7.6"
  }
 },
 "nbformat": 4,
 "nbformat_minor": 5
}
