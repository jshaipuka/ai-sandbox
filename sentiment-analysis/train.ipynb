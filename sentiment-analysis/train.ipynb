{
 "cells": [
  {
   "cell_type": "code",
   "id": "initial_id",
   "metadata": {
    "collapsed": true,
    "ExecuteTime": {
     "end_time": "2025-06-28T19:51:52.637524Z",
     "start_time": "2025-06-28T19:51:52.634128Z"
    }
   },
   "source": [
    "import numpy as np\n",
    "import spacy\n",
    "import torch\n",
    "from torch import nn\n",
    "from datasets import load_dataset, Dataset\n",
    "import os"
   ],
   "outputs": [],
   "execution_count": 130
  },
  {
   "metadata": {
    "ExecuteTime": {
     "end_time": "2025-06-28T17:52:42.703987Z",
     "start_time": "2025-06-28T17:52:42.698683Z"
    }
   },
   "cell_type": "code",
   "source": [
    "def tokenize(messages):\n",
    "    tokens = set()\n",
    "    message_to_tokens = []\n",
    "    for message in messages:\n",
    "        doc = nlp(message)\n",
    "        message_tokens = {token.text.lower() for token in doc if\n",
    "                          token.pos_ in {'ADJ', 'ADV', 'INTJ', 'NOUN', 'PROPN', 'VERB'}}\n",
    "        tokens.update(message_tokens)\n",
    "        message_to_tokens.append(message_tokens)\n",
    "    return list(tokens), message_to_tokens"
   ],
   "id": "ab5d7274b7e5c02b",
   "outputs": [],
   "execution_count": 42
  },
  {
   "metadata": {
    "ExecuteTime": {
     "end_time": "2025-06-28T19:09:53.175060Z",
     "start_time": "2025-06-28T19:09:53.172109Z"
    }
   },
   "cell_type": "code",
   "source": [
    "def encode_x(vocabulary, tokens):\n",
    "    vector = [0] * len(vocabulary)\n",
    "    for token in tokens:\n",
    "        index = vocabulary[token]\n",
    "        vector[index] = 1\n",
    "    return vector\n",
    "\n",
    "\n",
    "def encode_y(label):\n",
    "    vector = [0] * 3\n",
    "    vector[label] = 1\n",
    "    return vector"
   ],
   "id": "ccdbb77242fc8586",
   "outputs": [],
   "execution_count": 89
  },
  {
   "metadata": {
    "ExecuteTime": {
     "end_time": "2025-06-28T17:54:13.884191Z",
     "start_time": "2025-06-28T17:52:50.053346Z"
    }
   },
   "cell_type": "code",
   "source": [
    "nlp = spacy.load('en_core_web_sm')\n",
    "dataset = load_dataset('Sp1786/multiclass-sentiment-analysis-dataset')\n",
    "train_dataset: Dataset = dataset['train']\n",
    "\n",
    "tokens, message_to_tokens = tokenize(train_dataset['text'])\n",
    "\n",
    "vocabulary = {token: index for index, token in enumerate(tokens)}\n",
    "print(len(vocabulary))"
   ],
   "id": "a1f577bcdf2ff5f8",
   "outputs": [
    {
     "name": "stdout",
     "output_type": "stream",
     "text": [
      "29050\n"
     ]
    }
   ],
   "execution_count": 45
  },
  {
   "metadata": {
    "ExecuteTime": {
     "end_time": "2025-06-28T19:10:02.915993Z",
     "start_time": "2025-06-28T19:09:57.593859Z"
    }
   },
   "cell_type": "code",
   "source": [
    "xs = [encode_x(vocabulary, tokens) for tokens in message_to_tokens]\n",
    "ys = [encode_y(label) for label in train_dataset['label']]"
   ],
   "id": "70e9afa4b858fc22",
   "outputs": [],
   "execution_count": 90
  },
  {
   "metadata": {
    "ExecuteTime": {
     "end_time": "2025-06-28T19:20:03.205665Z",
     "start_time": "2025-06-28T19:20:03.198855Z"
    }
   },
   "cell_type": "code",
   "source": [
    "def create_batch(xs, ys, batch_size):\n",
    "    random_indices = np.random.choice(len(xs), batch_size)\n",
    "    return torch.tensor(np.stack([xs[index] for index in random_indices]), dtype=torch.float32), torch.tensor(\n",
    "        np.stack([ys[index] for index in random_indices]), dtype=torch.float32)"
   ],
   "id": "18c5705daf5e4493",
   "outputs": [],
   "execution_count": 110
  },
  {
   "metadata": {
    "ExecuteTime": {
     "end_time": "2025-06-28T19:36:33.879318Z",
     "start_time": "2025-06-28T19:36:33.874155Z"
    }
   },
   "cell_type": "code",
   "source": [
    "def determine_device():\n",
    "    if torch.cuda.is_available():\n",
    "        return 'cuda'\n",
    "    elif torch.backends.mps.is_available():\n",
    "        return 'mps'\n",
    "    else:\n",
    "        return 'cpu'\n",
    "\n",
    "device = determine_device()\n",
    "print(f'Device is {device}')"
   ],
   "id": "8a688ed2982f2904",
   "outputs": [
    {
     "name": "stdout",
     "output_type": "stream",
     "text": [
      "Device is mps\n"
     ]
    }
   ],
   "execution_count": 125
  },
  {
   "metadata": {
    "ExecuteTime": {
     "end_time": "2025-06-28T20:07:21.990159Z",
     "start_time": "2025-06-28T19:56:40.118186Z"
    }
   },
   "cell_type": "code",
   "source": [
    "model = nn.Sequential(\n",
    "    nn.Linear(len(vocabulary), 256),\n",
    "    nn.Linear(256, 3),\n",
    "    nn.Softmax(-1)\n",
    ").to(device)\n",
    "\n",
    "batch_size = 512\n",
    "loss_fn = nn.CrossEntropyLoss(reduction=\"mean\")\n",
    "optimizer = torch.optim.Adam(model.parameters(), lr=5e-3)\n",
    "\n",
    "cwd = os.getcwd()\n",
    "print(cwd)\n",
    "\n",
    "for epoch in range(2000):\n",
    "    x_batch, y_batch = create_batch(xs, ys, batch_size)\n",
    "    prediction = model(x_batch.to(device))\n",
    "    loss = loss_fn(prediction, y_batch.to(device))\n",
    "\n",
    "    loss.backward()\n",
    "    optimizer.step()\n",
    "    model.zero_grad()\n",
    "\n",
    "    if epoch % 10 == 0:\n",
    "        print(epoch, loss.item())\n",
    "    if epoch % 100 == 0:\n",
    "        model_file_name = os.path.join(cwd, \"models\", \"model_\" + str(epoch) + \".pt\")\n",
    "        torch.save(model.state_dict(), model_file_name)\n",
    "        print(\"Model has been saved as\", model_file_name)\n"
   ],
   "id": "4f44062e1b42347d",
   "outputs": [
    {
     "name": "stdout",
     "output_type": "stream",
     "text": [
      "/Users/yaskovdev/dev/git_home/ai-sandbox/sentiment-analysis\n",
      "0 1.0978257656097412\n",
      "Model has been saved as /Users/yaskovdev/dev/git_home/ai-sandbox/sentiment-analysis/models/model_0.pt\n",
      "10 0.9888988733291626\n",
      "20 0.8937515020370483\n",
      "30 0.8481156229972839\n",
      "40 0.8082658648490906\n",
      "50 0.8128935098648071\n",
      "60 0.7954080104827881\n",
      "70 0.7640846967697144\n",
      "80 0.7446404695510864\n",
      "90 0.7770837545394897\n",
      "100 0.7855230569839478\n",
      "Model has been saved as /Users/yaskovdev/dev/git_home/ai-sandbox/sentiment-analysis/models/model_100.pt\n",
      "110 0.7482659220695496\n",
      "120 0.7385355234146118\n",
      "130 0.7428759932518005\n",
      "140 0.7526922225952148\n",
      "150 0.7171924114227295\n",
      "160 0.7254508137702942\n",
      "170 0.6995365619659424\n",
      "180 0.7340483069419861\n",
      "190 0.7070382833480835\n",
      "200 0.6975364685058594\n",
      "Model has been saved as /Users/yaskovdev/dev/git_home/ai-sandbox/sentiment-analysis/models/model_200.pt\n",
      "210 0.6975405812263489\n",
      "220 0.725130558013916\n",
      "230 0.6932360529899597\n",
      "240 0.7086825966835022\n",
      "250 0.70079505443573\n",
      "260 0.7058854103088379\n",
      "270 0.7169591188430786\n",
      "280 0.6936500668525696\n",
      "290 0.7099023461341858\n",
      "300 0.7198456525802612\n",
      "Model has been saved as /Users/yaskovdev/dev/git_home/ai-sandbox/sentiment-analysis/models/model_300.pt\n",
      "310 0.6984641551971436\n",
      "320 0.696548581123352\n",
      "330 0.6947758197784424\n",
      "340 0.7083999514579773\n",
      "350 0.70525062084198\n",
      "360 0.6757345199584961\n",
      "370 0.7057220935821533\n",
      "380 0.691807746887207\n",
      "390 0.7250394821166992\n",
      "400 0.6869139671325684\n",
      "Model has been saved as /Users/yaskovdev/dev/git_home/ai-sandbox/sentiment-analysis/models/model_400.pt\n",
      "410 0.700501561164856\n",
      "420 0.6764934062957764\n",
      "430 0.6810267567634583\n",
      "440 0.6907510757446289\n",
      "450 0.7080010175704956\n",
      "460 0.6764430999755859\n",
      "470 0.697143018245697\n",
      "480 0.6914911270141602\n",
      "490 0.6885051727294922\n",
      "500 0.6733559966087341\n",
      "Model has been saved as /Users/yaskovdev/dev/git_home/ai-sandbox/sentiment-analysis/models/model_500.pt\n",
      "510 0.6699262857437134\n",
      "520 0.6859934329986572\n",
      "530 0.6734849214553833\n",
      "540 0.6897119283676147\n",
      "550 0.6938955783843994\n",
      "560 0.674694299697876\n",
      "570 0.6609078645706177\n",
      "580 0.6774371862411499\n",
      "590 0.6554199457168579\n",
      "600 0.6941559910774231\n",
      "Model has been saved as /Users/yaskovdev/dev/git_home/ai-sandbox/sentiment-analysis/models/model_600.pt\n",
      "610 0.6928523778915405\n",
      "620 0.6899681091308594\n",
      "630 0.6776727437973022\n",
      "640 0.6622002124786377\n",
      "650 0.6870230436325073\n",
      "660 0.6748298406600952\n",
      "670 0.6729643940925598\n",
      "680 0.688004732131958\n",
      "690 0.6775795221328735\n",
      "700 0.6782005429267883\n",
      "Model has been saved as /Users/yaskovdev/dev/git_home/ai-sandbox/sentiment-analysis/models/model_700.pt\n",
      "710 0.6770459413528442\n",
      "720 0.6869049668312073\n",
      "730 0.6739071011543274\n",
      "740 0.6718124151229858\n",
      "750 0.6505144834518433\n",
      "760 0.6668225526809692\n",
      "770 0.6840337514877319\n",
      "780 0.68409264087677\n",
      "790 0.6821633577346802\n",
      "800 0.6837465763092041\n",
      "Model has been saved as /Users/yaskovdev/dev/git_home/ai-sandbox/sentiment-analysis/models/model_800.pt\n",
      "810 0.6620043516159058\n",
      "820 0.6911846995353699\n",
      "830 0.6702327728271484\n",
      "840 0.6668193340301514\n",
      "850 0.6842296123504639\n",
      "860 0.6596307754516602\n",
      "870 0.6414950489997864\n",
      "880 0.6741235256195068\n",
      "890 0.6897301077842712\n",
      "900 0.6660453081130981\n",
      "Model has been saved as /Users/yaskovdev/dev/git_home/ai-sandbox/sentiment-analysis/models/model_900.pt\n",
      "910 0.6743030548095703\n",
      "920 0.6650342345237732\n",
      "930 0.678248405456543\n",
      "940 0.6665001511573792\n",
      "950 0.6666873097419739\n",
      "960 0.7091587781906128\n",
      "970 0.6791438460350037\n",
      "980 0.6921709179878235\n",
      "990 0.6630414128303528\n",
      "1000 0.6709068417549133\n",
      "Model has been saved as /Users/yaskovdev/dev/git_home/ai-sandbox/sentiment-analysis/models/model_1000.pt\n",
      "1010 0.6718111038208008\n",
      "1020 0.6738794445991516\n",
      "1030 0.6818510293960571\n",
      "1040 0.6432977914810181\n",
      "1050 0.6781793832778931\n",
      "1060 0.662213921546936\n",
      "1070 0.6952110528945923\n",
      "1080 0.6862635016441345\n",
      "1090 0.643117368221283\n",
      "1100 0.6739455461502075\n",
      "Model has been saved as /Users/yaskovdev/dev/git_home/ai-sandbox/sentiment-analysis/models/model_1100.pt\n",
      "1110 0.6648566126823425\n",
      "1120 0.6620017886161804\n",
      "1130 0.6786926984786987\n",
      "1140 0.6572578549385071\n",
      "1150 0.670583188533783\n",
      "1160 0.6505674719810486\n",
      "1170 0.6694145798683167\n",
      "1180 0.6983931064605713\n",
      "1190 0.653351902961731\n",
      "1200 0.6502505540847778\n",
      "Model has been saved as /Users/yaskovdev/dev/git_home/ai-sandbox/sentiment-analysis/models/model_1200.pt\n",
      "1210 0.6792316436767578\n",
      "1220 0.6680921316146851\n",
      "1230 0.6560009717941284\n",
      "1240 0.688021183013916\n",
      "1250 0.6694186925888062\n",
      "1260 0.6616919040679932\n",
      "1270 0.688772439956665\n",
      "1280 0.6769686341285706\n",
      "1290 0.669204592704773\n",
      "1300 0.6752939820289612\n",
      "Model has been saved as /Users/yaskovdev/dev/git_home/ai-sandbox/sentiment-analysis/models/model_1300.pt\n",
      "1310 0.6516265273094177\n",
      "1320 0.678840160369873\n",
      "1330 0.6606431603431702\n",
      "1340 0.6438885927200317\n",
      "1350 0.6579734086990356\n",
      "1360 0.6590688228607178\n",
      "1370 0.669925332069397\n",
      "1380 0.6549275517463684\n",
      "1390 0.654468297958374\n",
      "1400 0.6576757431030273\n",
      "Model has been saved as /Users/yaskovdev/dev/git_home/ai-sandbox/sentiment-analysis/models/model_1400.pt\n",
      "1410 0.6637474298477173\n",
      "1420 0.6749465465545654\n",
      "1430 0.6590860486030579\n",
      "1440 0.6539390087127686\n",
      "1450 0.6326558589935303\n",
      "1460 0.6843881011009216\n",
      "1470 0.647571861743927\n",
      "1480 0.6827564239501953\n",
      "1490 0.6690366268157959\n",
      "1500 0.6637471318244934\n",
      "Model has been saved as /Users/yaskovdev/dev/git_home/ai-sandbox/sentiment-analysis/models/model_1500.pt\n",
      "1510 0.6699280142784119\n",
      "1520 0.6718066334724426\n",
      "1530 0.676456093788147\n",
      "1540 0.6636132001876831\n",
      "1550 0.6788802146911621\n",
      "1560 0.6833105087280273\n"
     ]
    },
    {
     "ename": "KeyboardInterrupt",
     "evalue": "",
     "output_type": "error",
     "traceback": [
      "\u001B[31m---------------------------------------------------------------------------\u001B[39m",
      "\u001B[31mKeyboardInterrupt\u001B[39m                         Traceback (most recent call last)",
      "\u001B[36mCell\u001B[39m\u001B[36m \u001B[39m\u001B[32mIn[136]\u001B[39m\u001B[32m, line 15\u001B[39m\n\u001B[32m     12\u001B[39m \u001B[38;5;28mprint\u001B[39m(cwd)\n\u001B[32m     14\u001B[39m \u001B[38;5;28;01mfor\u001B[39;00m epoch \u001B[38;5;129;01min\u001B[39;00m \u001B[38;5;28mrange\u001B[39m(\u001B[32m2000\u001B[39m):\n\u001B[32m---> \u001B[39m\u001B[32m15\u001B[39m     x_batch, y_batch = create_batch(xs, ys, batch_size)\n\u001B[32m     16\u001B[39m     prediction = model(x_batch.to(device))\n\u001B[32m     17\u001B[39m     loss = loss_fn(prediction, y_batch.to(device))\n",
      "\u001B[36mCell\u001B[39m\u001B[36m \u001B[39m\u001B[32mIn[110]\u001B[39m\u001B[32m, line 6\u001B[39m, in \u001B[36mcreate_batch\u001B[39m\u001B[34m(xs, ys, batch_size)\u001B[39m\n\u001B[32m      4\u001B[39m \u001B[38;5;28;01mdef\u001B[39;00m\u001B[38;5;250m \u001B[39m\u001B[34mcreate_batch\u001B[39m(xs, ys, batch_size):\n\u001B[32m      5\u001B[39m     random_indices = np.random.choice(\u001B[38;5;28mlen\u001B[39m(xs), batch_size)\n\u001B[32m----> \u001B[39m\u001B[32m6\u001B[39m     \u001B[38;5;28;01mreturn\u001B[39;00m torch.tensor(np.stack([xs[index] \u001B[38;5;28;01mfor\u001B[39;00m index \u001B[38;5;129;01min\u001B[39;00m random_indices]), dtype=torch.float32), torch.tensor(\n\u001B[32m      7\u001B[39m         np.stack([ys[index] \u001B[38;5;28;01mfor\u001B[39;00m index \u001B[38;5;129;01min\u001B[39;00m random_indices]), dtype=torch.float32)\n",
      "\u001B[36mFile \u001B[39m\u001B[32m/opt/homebrew/Caskroom/miniconda/base/envs/sentiment-analysis/lib/python3.12/site-packages/numpy/_core/shape_base.py:454\u001B[39m, in \u001B[36mstack\u001B[39m\u001B[34m(arrays, axis, out, dtype, casting)\u001B[39m\n\u001B[32m    380\u001B[39m \u001B[38;5;129m@array_function_dispatch\u001B[39m(_stack_dispatcher)\n\u001B[32m    381\u001B[39m \u001B[38;5;28;01mdef\u001B[39;00m\u001B[38;5;250m \u001B[39m\u001B[34mstack\u001B[39m(arrays, axis=\u001B[32m0\u001B[39m, out=\u001B[38;5;28;01mNone\u001B[39;00m, *, dtype=\u001B[38;5;28;01mNone\u001B[39;00m, casting=\u001B[33m\"\u001B[39m\u001B[33msame_kind\u001B[39m\u001B[33m\"\u001B[39m):\n\u001B[32m    382\u001B[39m \u001B[38;5;250m    \u001B[39m\u001B[33;03m\"\"\"\u001B[39;00m\n\u001B[32m    383\u001B[39m \u001B[33;03m    Join a sequence of arrays along a new axis.\u001B[39;00m\n\u001B[32m    384\u001B[39m \n\u001B[32m   (...)\u001B[39m\u001B[32m    452\u001B[39m \n\u001B[32m    453\u001B[39m \u001B[33;03m    \"\"\"\u001B[39;00m\n\u001B[32m--> \u001B[39m\u001B[32m454\u001B[39m     arrays = [asanyarray(arr) \u001B[38;5;28;01mfor\u001B[39;00m arr \u001B[38;5;129;01min\u001B[39;00m arrays]\n\u001B[32m    455\u001B[39m     \u001B[38;5;28;01mif\u001B[39;00m \u001B[38;5;129;01mnot\u001B[39;00m arrays:\n\u001B[32m    456\u001B[39m         \u001B[38;5;28;01mraise\u001B[39;00m \u001B[38;5;167;01mValueError\u001B[39;00m(\u001B[33m'\u001B[39m\u001B[33mneed at least one array to stack\u001B[39m\u001B[33m'\u001B[39m)\n",
      "\u001B[31mKeyboardInterrupt\u001B[39m: "
     ]
    }
   ],
   "execution_count": 136
  },
  {
   "metadata": {
    "ExecuteTime": {
     "end_time": "2025-06-28T20:10:14.095899Z",
     "start_time": "2025-06-28T20:10:13.890108Z"
    }
   },
   "cell_type": "code",
   "source": [
    "model.load_state_dict(torch.load(os.path.join(cwd, \"models\", 'model_1300.pt'), map_location=torch.device(device)))\n",
    "model.eval()"
   ],
   "id": "f4c30589c091f035",
   "outputs": [],
   "execution_count": 139
  },
  {
   "metadata": {
    "ExecuteTime": {
     "end_time": "2025-06-28T20:30:29.603545Z",
     "start_time": "2025-06-28T20:30:29.564141Z"
    }
   },
   "cell_type": "code",
   "source": [
    "message = \"My computer is totally broken\"\n",
    "tokens, message_to_tokens = tokenize([message])\n",
    "x = encode_x(vocabulary, tokens)\n",
    "y = model(torch.tensor(x, dtype=torch.float32).to(device))\n",
    "answer = torch.multinomial(y, 1, replacement=True)\n",
    "print(['negative', 'neutral', 'positive'][answer])"
   ],
   "id": "6c7160e407faace2",
   "outputs": [
    {
     "name": "stdout",
     "output_type": "stream",
     "text": [
      "negative\n"
     ]
    }
   ],
   "execution_count": 192
  },
  {
   "metadata": {
    "ExecuteTime": {
     "end_time": "2025-06-28T20:28:28.651656Z",
     "start_time": "2025-06-28T20:28:28.300272Z"
    }
   },
   "cell_type": "code",
   "source": "torch.onnx.export(model, torch.tensor(x, dtype=torch.float32).to(device), \"model.onnx\")",
   "id": "c630e4b125e46d91",
   "outputs": [],
   "execution_count": 185
  },
  {
   "metadata": {},
   "cell_type": "code",
   "outputs": [],
   "execution_count": null,
   "source": "",
   "id": "f08c86b072545cb8"
  }
 ],
 "metadata": {
  "kernelspec": {
   "display_name": "Python 3",
   "language": "python",
   "name": "python3"
  },
  "language_info": {
   "codemirror_mode": {
    "name": "ipython",
    "version": 2
   },
   "file_extension": ".py",
   "mimetype": "text/x-python",
   "name": "python",
   "nbconvert_exporter": "python",
   "pygments_lexer": "ipython2",
   "version": "2.7.6"
  }
 },
 "nbformat": 4,
 "nbformat_minor": 5
}
