{
 "cells": [
  {
   "metadata": {
    "ExecuteTime": {
     "end_time": "2025-06-30T05:51:44.059881Z",
     "start_time": "2025-06-30T05:51:41.663120Z"
    }
   },
   "cell_type": "code",
   "source": [
    "import os\n",
    "\n",
    "import numpy as np\n",
    "import torch\n",
    "from datasets import load_dataset, Dataset, concatenate_datasets\n",
    "from sklearn.feature_extraction.text import TfidfVectorizer\n",
    "from torch import nn\n",
    "from torch.nn import functional as F"
   ],
   "id": "4a325cdc20fcea1b",
   "outputs": [],
   "execution_count": 1
  },
  {
   "metadata": {
    "ExecuteTime": {
     "end_time": "2025-06-30T05:51:44.064717Z",
     "start_time": "2025-06-30T05:51:44.062852Z"
    }
   },
   "cell_type": "code",
   "source": [
    "def encode_y(label):\n",
    "    vector = torch.zeros(3)\n",
    "    vector[label] = 1\n",
    "    return vector"
   ],
   "id": "2a9cfd038183490b",
   "outputs": [],
   "execution_count": 2
  },
  {
   "metadata": {
    "ExecuteTime": {
     "end_time": "2025-06-30T05:53:36.898276Z",
     "start_time": "2025-06-30T05:53:20.848762Z"
    }
   },
   "cell_type": "code",
   "source": [
    "dataset = load_dataset('Sp1786/multiclass-sentiment-analysis-dataset')\n",
    "train_dataset: Dataset = dataset['train']\n",
    "validation_dataset: Dataset = dataset['validation']\n",
    "\n",
    "corpus = concatenate_datasets([train_dataset, validation_dataset])['text']\n",
    "vectorizer = TfidfVectorizer(ngram_range=(1, 2))  # TODO: try different max number of features\n",
    "X = torch.tensor(vectorizer.fit_transform(corpus).toarray(), dtype=torch.float32)\n",
    "print(X.shape)"
   ],
   "id": "ea90e1ea7dc93912",
   "outputs": [
    {
     "name": "stdout",
     "output_type": "stream",
     "text": [
      "torch.Size([36437, 268766])\n"
     ]
    }
   ],
   "execution_count": 12
  },
  {
   "metadata": {
    "ExecuteTime": {
     "end_time": "2025-06-30T05:53:39.966828Z",
     "start_time": "2025-06-30T05:53:39.807579Z"
    }
   },
   "cell_type": "code",
   "source": [
    "train_xs = X[:len(train_dataset)]\n",
    "train_ys = torch.stack([encode_y(label) for label in train_dataset['label']])\n",
    "validation_xs = X[len(train_dataset):]\n",
    "validation_ys = torch.stack([encode_y(label) for label in validation_dataset['label']])\n",
    "print(f'Train xs length: {len(train_xs)}, train ys length: {len(train_ys)}')\n",
    "print(f'Validation xs length: {len(validation_xs)}, validation ys length: {len(validation_ys)}')"
   ],
   "id": "504721fc9f5288b",
   "outputs": [
    {
     "name": "stdout",
     "output_type": "stream",
     "text": [
      "Train xs length: 31232, train ys length: 31232\n",
      "Validation xs length: 5205, validation ys length: 5205\n"
     ]
    }
   ],
   "execution_count": 13
  },
  {
   "metadata": {
    "ExecuteTime": {
     "end_time": "2025-06-30T05:53:42.023321Z",
     "start_time": "2025-06-30T05:53:42.020119Z"
    }
   },
   "cell_type": "code",
   "source": [
    "def create_batch(xs, ys, batch_size):\n",
    "    random_indices = np.random.choice(len(xs), batch_size)\n",
    "    return xs[random_indices], ys[random_indices]"
   ],
   "id": "f47f64e9f3ef440f",
   "outputs": [],
   "execution_count": 14
  },
  {
   "metadata": {
    "ExecuteTime": {
     "end_time": "2025-06-30T05:53:42.786753Z",
     "start_time": "2025-06-30T05:53:42.782793Z"
    }
   },
   "cell_type": "code",
   "source": [
    "def determine_device():\n",
    "    if torch.cuda.is_available():\n",
    "        return 'cuda'\n",
    "    elif torch.backends.mps.is_available():\n",
    "        return 'mps'\n",
    "    else:\n",
    "        return 'cpu'\n",
    "\n",
    "\n",
    "device = determine_device()\n",
    "print(f'Device is {device}')"
   ],
   "id": "e3c3d98029d56fc1",
   "outputs": [
    {
     "name": "stdout",
     "output_type": "stream",
     "text": [
      "Device is mps\n"
     ]
    }
   ],
   "execution_count": 15
  },
  {
   "metadata": {
    "ExecuteTime": {
     "end_time": "2025-06-30T05:56:01.912557Z",
     "start_time": "2025-06-30T05:56:01.907788Z"
    }
   },
   "cell_type": "code",
   "source": [
    "def estimate_loss(model, iterations, validation_xs, validation_ys, batch_size):\n",
    "    model.eval()\n",
    "    loses = torch.zeros(iterations)\n",
    "    for i in range(iterations):\n",
    "        validation_x_batch, validation_y_batch = create_batch(validation_xs, validation_ys, batch_size)\n",
    "        validation_prediction = model(validation_x_batch.to(device))\n",
    "        validation_loss = F.cross_entropy(validation_prediction, validation_y_batch.to(device), reduction='mean')\n",
    "        loses[i] = validation_loss.item()\n",
    "    model.train()\n",
    "    return loses.mean()"
   ],
   "id": "480ba1bdf6ca83a5",
   "outputs": [],
   "execution_count": 19
  },
  {
   "metadata": {
    "ExecuteTime": {
     "end_time": "2025-06-30T05:56:02.654702Z",
     "start_time": "2025-06-30T05:56:02.335364Z"
    }
   },
   "cell_type": "code",
   "source": [
    "# nn.Softmax is not required (see the nn.CrossEntropyLoss docs why) and can be kept only in the inference\n",
    "model = nn.Sequential(\n",
    "    nn.Linear(X.shape[1], 256),\n",
    "    nn.Linear(256, 3)\n",
    ").to(device)"
   ],
   "id": "2f29d5b2201dd917",
   "outputs": [],
   "execution_count": 20
  },
  {
   "metadata": {
    "ExecuteTime": {
     "end_time": "2025-06-30T05:56:34.288987Z",
     "start_time": "2025-06-30T05:56:03.495984Z"
    }
   },
   "cell_type": "code",
   "source": [
    "model_dir = os.path.join(os.getcwd(), \"models\")\n",
    "os.makedirs(model_dir, exist_ok=True)\n",
    "\n",
    "batch_size = 128\n",
    "loss_fn = nn.CrossEntropyLoss(reduction=\"mean\")\n",
    "optimizer = torch.optim.Adam(model.parameters(), lr=5e-3)\n",
    "\n",
    "number_of_epoches = 1000\n",
    "for epoch in range(number_of_epoches):\n",
    "    if epoch % 100 == 0 or epoch == number_of_epoches - 1:\n",
    "        iterations = 10\n",
    "        mean_loss = estimate_loss(model, iterations, validation_xs, validation_ys, batch_size)\n",
    "        print(f'Epoch {epoch}, validation loss {mean_loss.item()}')\n",
    "\n",
    "    x_batch, y_batch = create_batch(train_xs, train_ys, batch_size)\n",
    "    prediction = model(x_batch.to(device))\n",
    "    loss = loss_fn(prediction, y_batch.to(device))\n",
    "    if epoch % 100 == 0 or epoch == number_of_epoches - 1:\n",
    "        print(f'Epoch {epoch}, train loss {loss.item()}')\n",
    "\n",
    "    loss.backward()\n",
    "    optimizer.step()\n",
    "    model.zero_grad()\n",
    "\n",
    "    if epoch > 0 and (epoch % 100 == 0 or epoch == number_of_epoches - 1):\n",
    "        model_file_name = os.path.join(model_dir, \"model_\" + str(epoch) + \".pt\")\n",
    "        torch.save(model.state_dict(), model_file_name)\n",
    "        print(\"Model has been saved as\", model_file_name)\n"
   ],
   "id": "cbea8f838038356e",
   "outputs": [
    {
     "name": "stdout",
     "output_type": "stream",
     "text": [
      "Epoch 0, validation loss 1.1000415086746216\n",
      "Epoch 0, train loss 1.098015546798706\n",
      "Epoch 100, validation loss 0.8460682034492493\n",
      "Epoch 100, train loss 0.5201863050460815\n",
      "Model has been saved as /Users/yaskovdev/dev/git_home/ai-sandbox/sentiment-analysis/models/model_100.pt\n",
      "Epoch 200, validation loss 0.821721076965332\n",
      "Epoch 200, train loss 0.3361300826072693\n",
      "Model has been saved as /Users/yaskovdev/dev/git_home/ai-sandbox/sentiment-analysis/models/model_200.pt\n",
      "Epoch 300, validation loss 0.8494618535041809\n",
      "Epoch 300, train loss 0.18635691702365875\n",
      "Model has been saved as /Users/yaskovdev/dev/git_home/ai-sandbox/sentiment-analysis/models/model_300.pt\n",
      "Epoch 400, validation loss 0.8312942385673523\n",
      "Epoch 400, train loss 0.1737145334482193\n",
      "Model has been saved as /Users/yaskovdev/dev/git_home/ai-sandbox/sentiment-analysis/models/model_400.pt\n",
      "Epoch 500, validation loss 0.9287206530570984\n",
      "Epoch 500, train loss 0.1360434889793396\n",
      "Model has been saved as /Users/yaskovdev/dev/git_home/ai-sandbox/sentiment-analysis/models/model_500.pt\n",
      "Epoch 600, validation loss 0.9182354807853699\n",
      "Epoch 600, train loss 0.09513277560472488\n",
      "Model has been saved as /Users/yaskovdev/dev/git_home/ai-sandbox/sentiment-analysis/models/model_600.pt\n"
     ]
    },
    {
     "ename": "KeyboardInterrupt",
     "evalue": "",
     "output_type": "error",
     "traceback": [
      "\u001B[31m---------------------------------------------------------------------------\u001B[39m",
      "\u001B[31mKeyboardInterrupt\u001B[39m                         Traceback (most recent call last)",
      "\u001B[36mCell\u001B[39m\u001B[36m \u001B[39m\u001B[32mIn[21]\u001B[39m\u001B[32m, line 17\u001B[39m\n\u001B[32m     15\u001B[39m x_batch, y_batch = create_batch(train_xs, train_ys, batch_size)\n\u001B[32m     16\u001B[39m prediction = model(x_batch.to(device))\n\u001B[32m---> \u001B[39m\u001B[32m17\u001B[39m loss = loss_fn(prediction, \u001B[43my_batch\u001B[49m\u001B[43m.\u001B[49m\u001B[43mto\u001B[49m\u001B[43m(\u001B[49m\u001B[43mdevice\u001B[49m\u001B[43m)\u001B[49m)\n\u001B[32m     18\u001B[39m \u001B[38;5;28;01mif\u001B[39;00m epoch % \u001B[32m100\u001B[39m == \u001B[32m0\u001B[39m \u001B[38;5;129;01mor\u001B[39;00m epoch == number_of_epoches - \u001B[32m1\u001B[39m:\n\u001B[32m     19\u001B[39m     \u001B[38;5;28mprint\u001B[39m(\u001B[33mf\u001B[39m\u001B[33m'\u001B[39m\u001B[33mEpoch \u001B[39m\u001B[38;5;132;01m{\u001B[39;00mepoch\u001B[38;5;132;01m}\u001B[39;00m\u001B[33m, train loss \u001B[39m\u001B[38;5;132;01m{\u001B[39;00mloss.item()\u001B[38;5;132;01m}\u001B[39;00m\u001B[33m'\u001B[39m)\n",
      "\u001B[31mKeyboardInterrupt\u001B[39m: "
     ]
    }
   ],
   "execution_count": 21
  },
  {
   "metadata": {
    "ExecuteTime": {
     "end_time": "2025-06-30T05:56:46.267257Z",
     "start_time": "2025-06-30T05:56:46.121397Z"
    }
   },
   "cell_type": "code",
   "source": [
    "model.load_state_dict(\n",
    "    torch.load(os.path.join(os.getcwd(), \"models\", 'model_400.pt'), map_location=torch.device(device)))"
   ],
   "id": "38e2afbf636e43fc",
   "outputs": [
    {
     "data": {
      "text/plain": [
       "<All keys matched successfully>"
      ]
     },
     "execution_count": 22,
     "metadata": {},
     "output_type": "execute_result"
    }
   ],
   "execution_count": 22
  },
  {
   "metadata": {
    "ExecuteTime": {
     "end_time": "2025-06-30T05:58:04.415476Z",
     "start_time": "2025-06-30T05:58:04.361847Z"
    }
   },
   "cell_type": "code",
   "source": [
    "model.eval()\n",
    "message_index = 213\n",
    "message = validation_dataset['text'][message_index]\n",
    "encoded_message = validation_xs[message_index]\n",
    "print(message)\n",
    "labels = ['negative', 'neutral', 'positive']\n",
    "print(f'Expected: {labels[torch.argmax(validation_ys[message_index]).item()]}')\n",
    "# test_tokens, _ = tokenize([message])\n",
    "# x = encode_x(vocabulary, test_tokens)\n",
    "y = model(encoded_message.to(device))\n",
    "#\n",
    "distribution = torch.nn.functional.softmax(y, dim=-1)\n",
    "print(distribution)\n",
    "answer = torch.argmax(distribution)\n",
    "print(['negative', 'neutral', 'positive'][answer])\n",
    "# model.train()"
   ],
   "id": "4e6ecc187750fda8",
   "outputs": [
    {
     "name": "stdout",
     "output_type": "stream",
     "text": [
      "A great app overall. Complete and specific in terms of types of goals. User interface aspects like fonts and some screens like the first \"create habit\" screen seem a little heterogeneous when compared to the rest of the app; in other words, they seem displaced, out of vibe. I suggest a review of the UI; maybe making it a little less cluttery and cleaner. For example, the google fit prompts and font correlation. It is a great work nevertheless, congratulations!\n",
      "Expected: positive\n",
      "tensor([0.0018, 0.1053, 0.8929], device='mps:0', grad_fn=<SoftmaxBackward0>)\n",
      "positive\n"
     ]
    }
   ],
   "execution_count": 37
  },
  {
   "metadata": {},
   "cell_type": "code",
   "outputs": [],
   "execution_count": null,
   "source": "torch.onnx.export(model, (torch.tensor(x, dtype=torch.float32).to(device),), \"model.onnx\")",
   "id": "4fe4b1f7443a9b84"
  }
 ],
 "metadata": {
  "kernelspec": {
   "display_name": "Python 3",
   "language": "python",
   "name": "python3"
  },
  "language_info": {
   "codemirror_mode": {
    "name": "ipython",
    "version": 2
   },
   "file_extension": ".py",
   "mimetype": "text/x-python",
   "name": "python",
   "nbconvert_exporter": "python",
   "pygments_lexer": "ipython2",
   "version": "2.7.6"
  }
 },
 "nbformat": 4,
 "nbformat_minor": 5
}
