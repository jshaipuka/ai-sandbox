{
 "cells": [
  {
   "cell_type": "markdown",
   "metadata": {},
   "source": [
    "[Homework for AI-For-Beginners course: 05 - Frameworks](https://github.com/microsoft/AI-For-Beginners/blob/main/lessons/3-NeuralNetworks/05-Frameworks/lab/LabFrameworks.ipynb)"
   ]
  },
  {
   "cell_type": "code",
   "execution_count": 3,
   "metadata": {},
   "outputs": [],
   "source": [
    "# display all outputs from Jupyter notebook cells, not just last.\n",
    "from IPython.core.interactiveshell import InteractiveShell\n",
    "InteractiveShell.ast_node_interactivity = \"all\"\n",
    "from datasets import load_dataset\n",
    "import torch\n",
    "import numpy as np"
   ]
  },
  {
   "cell_type": "code",
   "execution_count": 4,
   "metadata": {},
   "outputs": [],
   "source": [
    "# load data\n",
    "dataset = load_dataset(\"mnist\")"
   ]
  },
  {
   "cell_type": "code",
   "execution_count": 5,
   "metadata": {},
   "outputs": [],
   "source": [
    "# convert into expected torch tensors with image tensor being of shape (batch_size, 784)\n",
    "def normalize(examples):\n",
    "    if \"image\" in examples:\n",
    "        examples[\"image\"] = [torch.from_numpy(np.array(img).astype(\"float32\") / 255).view(-1).float() for img in examples[\"image\"]]\n",
    "    if \"label\" in examples:\n",
    "        examples[\"label\"] = torch.from_numpy(np.array(examples[\"label\"])).long()\n",
    "    return examples\n",
    "\n",
    "dataset = dataset.with_transform(normalize)"
   ]
  },
  {
   "cell_type": "code",
   "execution_count": null,
   "metadata": {},
   "outputs": [],
   "source": [
    "dataset_train, dataset_test = dataset[\"train\"], dataset[\"test\"]\n",
    "dataset_train.set_format('np')\n",
    "dataset_test.set_format('np')\n",
    "\n",
    "x_train = dataset_train['image'].astype(\"float32\") / 255\n",
    "y_train = keras.utils.to_categorical(dataset_train['label'], 10)"
   ]
  },
  {
   "cell_type": "code",
   "execution_count": 6,
   "metadata": {},
   "outputs": [],
   "source": [
    "dataset_train, dataset_test = dataset[\"train\"], dataset[\"test\"]\n",
    "dataset_test_x = torch.stack(dataset_test['image'])\n",
    "dataset_test_y = dataset_test['label']"
   ]
  },
  {
   "cell_type": "code",
   "execution_count": 7,
   "metadata": {},
   "outputs": [],
   "source": [
    "dataloader = torch.utils.data.DataLoader(dataset_train, batch_size=32)"
   ]
  },
  {
   "cell_type": "code",
   "execution_count": 8,
   "metadata": {},
   "outputs": [],
   "source": [
    "def accuracy(dataset_test_x, dataset_test_y):\n",
    "  _, predicted = torch.max(net(dataset_test_x), 1)\n",
    "  acc = (predicted == dataset_test_y).float().mean()\n",
    "  return acc\n",
    "\n",
    "def train(net, dataloader, dataset_test_x, dataset_test_y, epochs=10, lr=0.05):\n",
    "  optim = torch.optim.Adam(net.parameters(),lr=lr)\n",
    "  for ep in range(epochs):\n",
    "    for batch in dataloader:\n",
    "      x = batch[\"image\"]\n",
    "      y = batch[\"label\"]\n",
    "      z = net(x)\n",
    "      loss = torch.nn.functional.cross_entropy(z,y)\n",
    "      optim.zero_grad()\n",
    "      loss.backward()\n",
    "      optim.step()\n",
    "    \n",
    "    acc = accuracy(dataset_test_x, dataset_test_y)\n",
    "    print(f\"Epoch {ep}: last batch loss = {loss}, val acc = {acc}\")"
   ]
  },
  {
   "cell_type": "code",
   "execution_count": 9,
   "metadata": {},
   "outputs": [
    {
     "name": "stdout",
     "output_type": "stream",
     "text": [
      "Epoch 0: last batch loss = 0.18834947049617767, val acc = 0.8497999906539917\n",
      "Epoch 1: last batch loss = 0.05254385992884636, val acc = 0.84579998254776\n"
     ]
    }
   ],
   "source": [
    "# 1 layer network\n",
    "net = torch.nn.Sequential(torch.nn.Linear(28*28, 10))\n",
    "\n",
    "train(net,dataloader,dataset_test_x,dataset_test_y,epochs=2,lr=0.03)"
   ]
  },
  {
   "cell_type": "code",
   "execution_count": 10,
   "metadata": {},
   "outputs": [
    {
     "name": "stdout",
     "output_type": "stream",
     "text": [
      "Epoch 0: last batch loss = 0.0429919958114624, val acc = 0.8712999820709229\n",
      "Epoch 1: last batch loss = 0.14745289087295532, val acc = 0.9175000190734863\n"
     ]
    }
   ],
   "source": [
    "# 2 layer network\n",
    "net = torch.nn.Sequential(\n",
    "    torch.nn.Linear(28*28, 100),  # First layer with 100 neurons\n",
    "    torch.nn.ReLU(),  # Non-linear activation function\n",
    "    torch.nn.Linear(100, 10)  # Second layer with 10 neurons (one for each class)\n",
    ")\n",
    "\n",
    "train(net,dataloader,dataset_test_x,dataset_test_y,epochs=2,lr=0.03)"
   ]
  }
 ],
 "metadata": {
  "kernelspec": {
   "display_name": "ai-for-beginners",
   "language": "python",
   "name": "python3"
  },
  "language_info": {
   "codemirror_mode": {
    "name": "ipython",
    "version": 3
   },
   "file_extension": ".py",
   "mimetype": "text/x-python",
   "name": "python",
   "nbconvert_exporter": "python",
   "pygments_lexer": "ipython3",
   "version": "3.12.3"
  }
 },
 "nbformat": 4,
 "nbformat_minor": 2
}
