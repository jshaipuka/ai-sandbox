{
 "cells": [
  {
   "cell_type": "markdown",
   "metadata": {},
   "source": [
    "[Homework for AI-For-Beginners course: 05 - Frameworks](https://github.com/microsoft/AI-For-Beginners/blob/main/lessons/3-NeuralNetworks/05-Frameworks/lab/LabFrameworks.ipynb)"
   ]
  },
  {
   "cell_type": "code",
   "execution_count": 1,
   "metadata": {},
   "outputs": [],
   "source": [
    "# display all outputs from Jupyter notebook cells, not just last.\n",
    "from IPython.core.interactiveshell import InteractiveShell\n",
    "InteractiveShell.ast_node_interactivity = \"all\"\n",
    "from datasets import load_dataset\n",
    "import torch\n",
    "import numpy as np"
   ]
  },
  {
   "cell_type": "code",
   "execution_count": 2,
   "metadata": {},
   "outputs": [],
   "source": [
    "# load data\n",
    "dataset = load_dataset(\"mnist\")"
   ]
  },
  {
   "cell_type": "code",
   "execution_count": 7,
   "metadata": {},
   "outputs": [],
   "source": [
    "# convert into expected torch tensors with image tensor being of shape (batch_size, 784)\n",
    "def normalize(examples):\n",
    "    if \"image\" in examples:\n",
    "        examples[\"image\"] = [torch.from_numpy(np.array(img)).view(-1).float() for img in examples[\"image\"]]\n",
    "    if \"label\" in examples:\n",
    "        examples[\"label\"] = torch.from_numpy(np.array(examples[\"label\"])).long()\n",
    "    return examples\n",
    "\n",
    "dataset = dataset.with_transform(normalize)"
   ]
  },
  {
   "cell_type": "code",
   "execution_count": 10,
   "metadata": {},
   "outputs": [],
   "source": [
    "dataset_train, dataset_test = dataset[\"train\"], dataset[\"test\"]\n",
    "dataset_test_x = torch.stack(dataset_test['image'])\n",
    "dataset_test_y = dataset_test['label']"
   ]
  },
  {
   "cell_type": "code",
   "execution_count": 11,
   "metadata": {},
   "outputs": [],
   "source": [
    "dataloader = torch.utils.data.DataLoader(dataset_train, batch_size=32)"
   ]
  },
  {
   "cell_type": "code",
   "execution_count": 4,
   "metadata": {},
   "outputs": [],
   "source": [
    "def accuracy(dataset_test_x, dataset_test_y):\n",
    "  _, predicted = torch.max(net(dataset_test_x), 1)\n",
    "  acc = (predicted == dataset_test_y).float().mean()\n",
    "  return acc\n",
    "\n",
    "def train(net, dataloader, dataset_test_x, dataset_test_y, epochs=10, lr=0.05):\n",
    "  optim = torch.optim.Adam(net.parameters(),lr=lr)\n",
    "  for ep in range(epochs):\n",
    "    for batch in dataloader:\n",
    "      x = batch[\"image\"]\n",
    "      y = batch[\"label\"]\n",
    "      z = net(x)\n",
    "      loss = torch.nn.functional.cross_entropy(z,y)\n",
    "      optim.zero_grad()\n",
    "      loss.backward()\n",
    "      optim.step()\n",
    "    \n",
    "    acc = accuracy(dataset_test_x, dataset_test_y)\n",
    "    print(f\"Epoch {ep}: last batch loss = {loss}, val acc = {acc}\")"
   ]
  },
  {
   "cell_type": "code",
   "execution_count": 12,
   "metadata": {},
   "outputs": [
    {
     "name": "stdout",
     "output_type": "stream",
     "text": [
      "Epoch 0: last batch loss = 46.259090423583984, val acc = 0.8467000126838684\n",
      "Epoch 1: last batch loss = 89.85942077636719, val acc = 0.857200026512146\n"
     ]
    }
   ],
   "source": [
    "# 1 layer network\n",
    "net = torch.nn.Sequential(torch.nn.Linear(28*28, 10))\n",
    "\n",
    "train(net,dataloader,dataset_test_x,dataset_test_y,epochs=2,lr=0.03)"
   ]
  },
  {
   "cell_type": "code",
   "execution_count": 6,
   "metadata": {},
   "outputs": [
    {
     "name": "stdout",
     "output_type": "stream",
     "text": [
      "Epoch 0: last batch loss = 2.298203229904175, val acc = 0.10869999974966049\n",
      "Epoch 1: last batch loss = 2.3001668453216553, val acc = 0.10300000011920929\n"
     ]
    }
   ],
   "source": [
    "# 2 layer network\n",
    "net = torch.nn.Sequential(\n",
    "    torch.nn.Linear(28*28, 100),  # First layer with 100 neurons\n",
    "    torch.nn.ReLU(),  # Non-linear activation function\n",
    "    torch.nn.Linear(100, 10)  # Second layer with 10 neurons (one for each class)\n",
    ")\n",
    "\n",
    "train(net,dataloader,dataset_test_x,dataset_test_y,epochs=2,lr=0.03)"
   ]
  }
 ],
 "metadata": {
  "kernelspec": {
   "display_name": "ai-for-beginners",
   "language": "python",
   "name": "python3"
  },
  "language_info": {
   "codemirror_mode": {
    "name": "ipython",
    "version": 3
   },
   "file_extension": ".py",
   "mimetype": "text/x-python",
   "name": "python",
   "nbconvert_exporter": "python",
   "pygments_lexer": "ipython3",
   "version": "3.12.3"
  }
 },
 "nbformat": 4,
 "nbformat_minor": 2
}
